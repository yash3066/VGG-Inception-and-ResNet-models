{
 "cells": [
  {
   "cell_type": "code",
   "execution_count": 5,
   "metadata": {},
   "outputs": [],
   "source": [
    "import tensorflow as tf\n",
    "import keras.backend as K\n",
    "from keras import layers, optimizers\n",
    "from keras.models import Model\n",
    "from keras_applications.imagenet_utils import _obtain_input_shape\n",
    "from keras.applications.imagenet_utils import preprocess_input\n",
    "from keras.layers import Dense, Activation, Flatten, Conv2D, MaxPool2D, AveragePooling2D, BatchNormalization, \\\n",
    "    ZeroPadding2D, Input"
   ]
  },
  {
   "cell_type": "code",
   "execution_count": 18,
   "metadata": {},
   "outputs": [],
   "source": [
    "class ZFNet:\n",
    "\n",
    "    def __init__(self):\n",
    "\n",
    "        self.model = None\n",
    "\n",
    "    def build(self, input_shape=None, num_outputs=1000):\n",
    "        if len(input_shape) != 3:\n",
    "            raise Exception(\"Input shape should be a tuple like (nb_rows, nb_cols, nb_channels)\")\n",
    "\n",
    "        # (227, 227, 3)\n",
    "        input_shape = _obtain_input_shape(input_shape, default_size=224, min_size=197,\n",
    "                                          data_format=K.image_data_format(), include_top=True)\n",
    "        img_input = Input(shape=input_shape)\n",
    "        # x = ZeroPadding2D((3, 3))(img_input)\n",
    "        x = Conv2D(96, (7, 7), strides=(2, 2), name='conv1')(img_input)\n",
    "        # (55, 55, 96)\n",
    "        x = MaxPool2D(pool_size=(3, 3), strides=(2, 2), padding='same', name='pool1')(x)\n",
    "        # (27, 27, 96)\n",
    "        x = BatchNormalization(axis=3, name='bn_conv1')(x)\n",
    "\n",
    "        x = Conv2D(256, (5, 5), strides=(4, 4), name='conv2')(x)\n",
    "        x = MaxPool2D(pool_size=(3, 3), strides=(2, 2), padding='same', name='pool2')(x)\n",
    "        x = BatchNormalization(axis=3, name='bn_conv2')(x)\n",
    "\n",
    "        x = Conv2D(512, (3, 3), strides=(1, 1), padding=1, name='conv3')(x)\n",
    "        x = Conv2D(1024, (3, 3), strides=(1, 1), padding=1, name='conv4')(x)\n",
    "        x = Conv2D(512, (3, 3), strides=(1, 1), padding=1, name='conv5')(x)\n",
    "        x = MaxPool2D(pool_size=(3, 3), strides=(2, 2), padding='same', name='pool3')(x)\n",
    "\n",
    "        x = Dense(units=4096)(x)\n",
    "        x = Dense(units=4096)(x)\n",
    "        x = Dense(units=num_outputs)(x)\n",
    "        x = Activation('softmax')(x)\n",
    "\n",
    "        self.model = Model(inputs=img_input, outputs=x, name='ZFNet Model')\n",
    "        return self.model\n",
    "    \n",
    "    def compile(self, optimizer='sgd'):\n",
    "\n",
    "        optimizer_dicc = {'sgd': optimizers.SGD(lr=0.01, decay=1e-6, momentum=0.9, nesterov=True),\n",
    "                          'rmsprop': optimizers.RMSprop(lr=0.001, rho=0.9, epsilon=1e-08, decay=0.0),\n",
    "                          'adagrad': optimizers.Adagrad(lr=0.01, epsilon=1e-08, decay=0.0),\n",
    "                          'adadelta': optimizers.Adadelta(lr=1.0, rho=0.95, epsilon=1e-08, decay=0.0),\n",
    "                          'adam': optimizers.Adam(lr=0.001, beta_1=0.9, beta_2=0.999, epsilon=1e-08, decay=0.0)}\n",
    "\n",
    "        self.model.compile(optimizer=optimizer_dicc[optimizer], loss='categorical_crossentropy', metrics=['accuracy'])\n",
    "        return self.model\n",
    "\n",
    "    def predict(self, image_batch):\n",
    "        import numpy as np\n",
    "\n",
    "        predictions = []\n",
    "        for image in image_batch:\n",
    "            pred = self.model.predict(image)\n",
    "            predictions.append(pred)\n",
    "\n",
    "        return np.asarray(predictions)"
   ]
  },
  {
   "cell_type": "code",
   "execution_count": 19,
   "metadata": {},
   "outputs": [],
   "source": [
    "if __name__ == '__main__':\n",
    "\n",
    "    pass"
   ]
  },
  {
   "cell_type": "markdown",
   "metadata": {},
   "source": [
    "This is the ZFNet model presented in the paper by __Matthew D Zeiler__, __Rob Fergus__.\n",
    "Paper Link: []"
   ]
  }
 ],
 "metadata": {
  "kernelspec": {
   "display_name": "Python 3",
   "language": "python",
   "name": "python3"
  },
  "language_info": {
   "codemirror_mode": {
    "name": "ipython",
    "version": 3
   },
   "file_extension": ".py",
   "mimetype": "text/x-python",
   "name": "python",
   "nbconvert_exporter": "python",
   "pygments_lexer": "ipython3",
   "version": "3.7.6"
  }
 },
 "nbformat": 4,
 "nbformat_minor": 4
}
